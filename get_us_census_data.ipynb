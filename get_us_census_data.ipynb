{
 "cells": [
  {
   "cell_type": "code",
   "execution_count": 1,
   "id": "731678df",
   "metadata": {},
   "outputs": [],
   "source": [
    "import os\n",
    "import json\n",
    "import requests\n",
    "import pandas as pd"
   ]
  },
  {
   "cell_type": "code",
   "execution_count": 2,
   "id": "1931fa67",
   "metadata": {},
   "outputs": [],
   "source": [
    "f = open(\"us_census_api_key.txt\", \"r\")\n",
    "census_key = f.read()\n",
    "f.close()"
   ]
  },
  {
   "cell_type": "code",
   "execution_count": 5,
   "id": "e11c7068",
   "metadata": {},
   "outputs": [],
   "source": [
    "# Median Household Income 2023 inflation adjusted\n",
    "avg_hh_income = \"https://api.census.gov/data/2023/acs/acs5/subject?get=NAME,S1901_C01_012E,S1901_C01_013E&for=tract:*&in=state:26&key=\" + census_key\n",
    "resp = requests.get(avg_hh_income)\n",
    "if resp.status_code == 200:\n",
    "   data = resp.json()\n",
    "   avg_hh_income_df = pd.DataFrame(data[1:], columns=data[0])\n",
    "   avg_hh_income_df.to_csv(\"outputs/median_and_mean_household_income_2023.csv\", index=False, float_format=\"%s\")"
   ]
  },
  {
   "cell_type": "code",
   "execution_count": 4,
   "id": "c18da7e8",
   "metadata": {},
   "outputs": [],
   "source": [
    "# Total number of occupied housing units 2023\n",
    "hh_count_url = \"https://api.census.gov/data/2023/acs/acs5?get=NAME,B25002_002E&for=tract:*&in=state:26&key=\" + census_key\n",
    "resp = requests.get(hh_count_url)\n",
    "if resp.status_code == 200:\n",
    "   data = resp.json()\n",
    "   fpl_df = pd.DataFrame(data[1:], columns=data[0])\n",
    "   fpl_df.to_csv(\"outputs/occupied_housing_units.csv\", index=False, float_format=\"%s\")"
   ]
  },
  {
   "cell_type": "code",
   "execution_count": null,
   "id": "e9209e74",
   "metadata": {},
   "outputs": [],
   "source": [
    "# Total number of households 2023\n",
    "hh_count_url = \"https://api.census.gov/data/2023/acs/acs5/subject?get=NAME,S1101_C01_001E&for=tract:*&in=state:26&key=\" + census_key\n",
    "resp = requests.get(hh_count_url)\n",
    "if resp.status_code == 200:\n",
    "   data = resp.json()\n",
    "   hh_count_df = pd.DataFrame(data[1:], columns=data[0])\n",
    "   hh_count_df.to_csv(\"outputs/total_number_of_households_2023.csv\", index=False, float_format=\"%s\")\n",
    "\n",
    "   "
   ]
  },
  {
   "cell_type": "code",
   "execution_count": null,
   "id": "47c2fadf",
   "metadata": {},
   "outputs": [],
   "source": [
    "# Ratio of income to federal povertly level 2023\n",
    "fpl_url = \"https://api.census.gov/data/2023/acs/acs5?get=NAME,group(B17026)&for=tract:*&in=state:26&key=\" + census_key\n",
    "resp = requests.get(fpl_url)\n",
    "if resp.status_code == 200:\n",
    "   data = resp.json()\n",
    "   fpl_df = pd.DataFrame(data[1:], columns=data[0])\n",
    "   fpl_df.to_csv(\"outputs/fpl_2023.csv\", index=False, float_format=\"%s\")"
   ]
  },
  {
   "cell_type": "code",
   "execution_count": 16,
   "id": "186ba9aa",
   "metadata": {},
   "outputs": [],
   "source": [
    "# Estimating % BIPOC\n",
    "# Requesting total population, and population that identifies as \"White Alone\"\n",
    "# B01001_001E: total population\n",
    "# B01001A_001E: White Alone\n",
    "race_url = \"https://api.census.gov/data/2023/acs/acs5?get=NAME,B01001_001E,B01001A_001E&for=tract:*&in=state:26&key=\" + census_key\n",
    "resp = requests.get(race_url)\n",
    "if resp.status_code == 200:\n",
    "   data = resp.json()\n",
    "   race_df = pd.DataFrame(data[1:], columns=data[0])\n",
    "   race_df.to_csv(\"outputs/race_2023.csv\", index=False, float_format=\"%s\")"
   ]
  },
  {
   "cell_type": "code",
   "execution_count": 6,
   "id": "1b9da387",
   "metadata": {},
   "outputs": [],
   "source": [
    "# Income in the past 12 months, 2023 (inflation adjusted)\n",
    "income_buckets_url = \"https://api.census.gov/data/2023/acs/acs5/subject?get=NAME,group(S1901)&for=tract:*&in=state:26&key=\" + census_key\n",
    "resp = requests.get(income_buckets_url)\n",
    "if resp.status_code == 200:\n",
    "   data = resp.json()\n",
    "   income_buckets_df = pd.DataFrame(data[1:], columns=data[0])\n",
    "   income_buckets_df.to_csv(\"outputs/income_buckets_2023.csv\", index=False, float_format=\"%s\")"
   ]
  }
 ],
 "metadata": {
  "kernelspec": {
   "display_name": "Python 3",
   "language": "python",
   "name": "python3"
  },
  "language_info": {
   "codemirror_mode": {
    "name": "ipython",
    "version": 3
   },
   "file_extension": ".py",
   "mimetype": "text/x-python",
   "name": "python",
   "nbconvert_exporter": "python",
   "pygments_lexer": "ipython3",
   "version": "3.11.2"
  }
 },
 "nbformat": 4,
 "nbformat_minor": 5
}
