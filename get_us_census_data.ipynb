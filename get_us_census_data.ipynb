{
 "cells": [
  {
   "cell_type": "code",
   "execution_count": 1,
   "id": "731678df",
   "metadata": {},
   "outputs": [],
   "source": [
    "import os\n",
    "import json\n",
    "import requests\n",
    "import pandas as pd"
   ]
  },
  {
   "cell_type": "code",
   "execution_count": 2,
   "id": "1931fa67",
   "metadata": {},
   "outputs": [],
   "source": [
    "f = open(\"us_census_api_key.txt\", \"r\")\n",
    "census_key = f.read()\n",
    "f.close()"
   ]
  },
  {
   "cell_type": "code",
   "execution_count": 12,
   "id": "e11c7068",
   "metadata": {},
   "outputs": [],
   "source": [
    "# Median Household Income 2023 inflation adjusted\n",
    "med_hh_income = \"https://api.census.gov/data/2023/acs/acs5/subject?get=NAME,S1901_C01_012E&for=tract:*&in=state:26&key=\" + census_key\n",
    "resp = requests.get(med_hh_income)\n",
    "if resp.status_code == 200:\n",
    "   data = resp.json()\n",
    "   med_hh_income_df = pd.DataFrame(data[1:], columns=data[0])\n",
    "   med_hh_income_df.to_csv(\"outputs/median_household_income_2023.csv\", index=False, float_format=\"%s\")"
   ]
  },
  {
   "cell_type": "code",
   "execution_count": 13,
   "id": "e9209e74",
   "metadata": {},
   "outputs": [],
   "source": [
    "# Total number of households 2023\n",
    "hh_count_url = \"https://api.census.gov/data/2023/acs/acs5/subject?get=NAME,S1101_C01_001E&for=tract:*&in=state:26&key=\" + census_key\n",
    "resp = requests.get(hh_count_url)\n",
    "if resp.status_code == 200:\n",
    "   data = resp.json()\n",
    "   hh_count_df = pd.DataFrame(data[1:], columns=data[0])\n",
    "   hh_count_df.to_csv(\"outputs/total_number_of_households_2023.csv\", index=False, float_format=\"%s\")"
   ]
  },
  {
   "cell_type": "code",
   "execution_count": 14,
   "id": "47c2fadf",
   "metadata": {},
   "outputs": [],
   "source": [
    "# Ratio of income to federal povertly level 2023\n",
    "fpl_url = \"https://api.census.gov/data/2023/acs/acs5?get=NAME,group(B17026)&for=tract:*&in=state:26&key=\" + census_key\n",
    "resp = requests.get(fpl_url)\n",
    "if resp.status_code == 200:\n",
    "   data = resp.json()\n",
    "   fpl_df = pd.DataFrame(data[1:], columns=data[0])\n",
    "   fpl_df.to_csv(\"outputs/fpl_2023.csv\", index=False, float_format=\"%s\")"
   ]
  }
 ],
 "metadata": {
  "kernelspec": {
   "display_name": "Python 3",
   "language": "python",
   "name": "python3"
  },
  "language_info": {
   "codemirror_mode": {
    "name": "ipython",
    "version": 3
   },
   "file_extension": ".py",
   "mimetype": "text/x-python",
   "name": "python",
   "nbconvert_exporter": "python",
   "pygments_lexer": "ipython3",
   "version": "3.11.2"
  }
 },
 "nbformat": 4,
 "nbformat_minor": 5
}
