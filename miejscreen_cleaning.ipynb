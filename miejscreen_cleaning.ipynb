{
 "cells": [
  {
   "cell_type": "code",
   "execution_count": 17,
   "id": "bfd153ad",
   "metadata": {},
   "outputs": [],
   "source": [
    "import os\n",
    "import json\n",
    "import pandas as pd"
   ]
  },
  {
   "cell_type": "code",
   "execution_count": 3,
   "id": "1665115e",
   "metadata": {},
   "outputs": [],
   "source": [
    "# Reading in MiEJScreen data from 07/29/2025\n",
    "f = open(\"../../Data/MiEJScreen/miejscreen.json\", \"r\")\n",
    "resp = json.load(f)\n",
    "f.close()\n"
   ]
  },
  {
   "cell_type": "code",
   "execution_count": null,
   "id": "73500b6c",
   "metadata": {},
   "outputs": [],
   "source": [
    "resp"
   ]
  },
  {
   "cell_type": "code",
   "execution_count": null,
   "id": "12fadcd7",
   "metadata": {},
   "outputs": [
    {
     "data": {
      "text/plain": [
       "dict_keys(['objectIdFieldName', 'uniqueIdField', 'globalIdFieldName', 'geometryProperties', 'geometryType', 'spatialReference', 'transform', 'fields', 'features'])"
      ]
     },
     "execution_count": 5,
     "metadata": {},
     "output_type": "execute_result"
    }
   ],
   "source": [
    "resp.keys()\n",
    "# Note: fields contains a description of all the fields available per census tract\n",
    "# Note: features contains a list of census tracts with the MiEJScreen data"
   ]
  },
  {
   "cell_type": "code",
   "execution_count": null,
   "id": "c3450427",
   "metadata": {},
   "outputs": [],
   "source": [
    "# Note: Creating a list of dictionaries where each dictionary represents a census tract and the MiEJScreen associated with it\n",
    "miejscreen_clean = []\n",
    "\n",
    "for feature in resp[\"features\"]:\n",
    "   print(feature[\"attributes\"][\"GEOID\"])\n",
    "   miejscreen_clean.append(feature[\"attributes\"])\n"
   ]
  },
  {
   "cell_type": "code",
   "execution_count": null,
   "id": "9e7dae0c",
   "metadata": {},
   "outputs": [],
   "source": [
    "# Writing MiEJScreen data to a CSV\n",
    "df = pd.DataFrame(miejscreen_clean)\n",
    "df.to_csv(\"outputs/miejscreen.csv\", index = False)"
   ]
  }
 ],
 "metadata": {
  "kernelspec": {
   "display_name": "Python 3",
   "language": "python",
   "name": "python3"
  },
  "language_info": {
   "codemirror_mode": {
    "name": "ipython",
    "version": 3
   },
   "file_extension": ".py",
   "mimetype": "text/x-python",
   "name": "python",
   "nbconvert_exporter": "python",
   "pygments_lexer": "ipython3",
   "version": "3.11.2"
  }
 },
 "nbformat": 4,
 "nbformat_minor": 5
}
